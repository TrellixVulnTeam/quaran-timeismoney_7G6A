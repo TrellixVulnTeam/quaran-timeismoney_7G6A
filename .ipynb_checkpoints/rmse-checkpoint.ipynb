{
 "cells": [
  {
   "cell_type": "code",
   "execution_count": 1,
   "metadata": {},
   "outputs": [],
   "source": [
    "import numpy as np\n",
    "import pandas as pd\n",
    "import os\n",
    "import matplotlib.pyplot as plt\n",
    "from sklearn.preprocessing import scale\n",
    "import imblearn\n",
    "from timeit import timeit"
   ]
  },
  {
   "cell_type": "code",
   "execution_count": 2,
   "metadata": {},
   "outputs": [],
   "source": [
    "bns = pd.read_csv(os.getcwd()+'/stockdata/BNS.TO-(2007,2010).csv')\n",
    "td = pd.read_csv(os.getcwd()+'/stockdata/TD.TO-(2007,2010).csv')"
   ]
  },
  {
   "cell_type": "code",
   "execution_count": 3,
   "metadata": {},
   "outputs": [],
   "source": [
    "stocks = [bns, td]\n",
    "for stock in stocks:\n",
    "    stock['Normalized Adj. Close'] = scale(stock['Adj. Close'])\n",
    "    \n",
    "numpied = [stock['Normalized Adj. Close'].to_numpy() for stock in stocks]"
   ]
  },
  {
   "cell_type": "code",
   "execution_count": null,
   "metadata": {},
   "outputs": [],
   "source": [
    "def rmse(sig1, sig2):\n",
    "    mse = 0\n",
    "    for x,y in zip(sig1,sig2):\n",
    "        mse+=abs(x-y)^^2\n",
    "    return np.sqrt(mse)"
   ]
  }
 ],
 "metadata": {
  "kernelspec": {
   "display_name": "Python 3",
   "language": "python",
   "name": "python3"
  },
  "language_info": {
   "codemirror_mode": {
    "name": "ipython",
    "version": 3
   },
   "file_extension": ".py",
   "mimetype": "text/x-python",
   "name": "python",
   "nbconvert_exporter": "python",
   "pygments_lexer": "ipython3",
   "version": "3.7.4"
  }
 },
 "nbformat": 4,
 "nbformat_minor": 4
}
